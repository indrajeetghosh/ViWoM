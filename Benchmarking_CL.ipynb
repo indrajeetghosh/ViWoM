{
 "cells": [
  {
   "cell_type": "code",
   "execution_count": null,
   "id": "a8ce930f-0571-4e34-be23-7d0da29d028e",
   "metadata": {},
   "outputs": [],
   "source": [
    "from sklearn.ensemble import RandomForestClassifier\n",
    "from sklearn.neural_network import MLPClassifier\n",
    "from sklearn.naive_bayes import GaussianNB\n",
    "from sklearn.tree import DecisionTreeClassifier\n",
    "from sklearn.svm import SVC\n",
    "from sklearn.pipeline import Pipeline\n",
    "from sklearn.model_selection import train_test_split\n",
    "from sklearn.preprocessing import StandardScaler\n",
    "from sklearn.metrics import classification_report\n",
    "from sklearn.metrics import classification_report, confusion_matrix\n",
    "import os\n",
    "import numpy as np\n",
    "import pandas as pd\n",
    "import matplotlib.pyplot as plt\n",
    "from sklearn.preprocessing import LabelEncoder, StandardScaler\n",
    "import seaborn as sns"
   ]
  },
  {
   "cell_type": "code",
   "execution_count": null,
   "id": "7aba1c61-b022-4726-9706-09a8d66b9e71",
   "metadata": {},
   "outputs": [],
   "source": [
    "import matplotlib as mpl\n",
    "import pylab\n",
    "mpl.rcParams['lines.linewidth'] = 2\n",
    "mpl.rcParams['lines.color'] = 'r'\n",
    "mpl.rcParams['font.weight'] = 200\n",
    "plt.style.use('seaborn-whitegrid')\n",
    "plt.rc('figure',figsize=(8,8))\n",
    "mpl.axes.Axes.annotate\n",
    "mpl.rcParams['font.family'] = \"serif\"\n",
    "pylab.rcParams['ytick.major.pad']='15'\n",
    "pylab.rcParams['xtick.major.pad']='15'\n",
    "mpl.rcParams['font.weight'] = \"semibold\"\n",
    "mpl.rcParams['axes.labelsize'] = 20\n",
    "mpl.rcParams['axes.linewidth'] = 4\n",
    "mpl.rcParams['xtick.labelsize'] = 20\n",
    "mpl.rcParams['ytick.labelsize'] = 20\n",
    "mpl.rcParams['axes.edgecolor'] = 'black'\n",
    "mpl.rcParams['axes.titlesize'] = 20\n",
    "mpl.rcParams['legend.fontsize'] = 15"
   ]
  },
  {
   "cell_type": "code",
   "execution_count": null,
   "id": "8e8c78d4-a812-4f91-9bb9-174c179ded7f",
   "metadata": {},
   "outputs": [],
   "source": [
    "def plot_cm(y_true, y_pred, labels, class_names=None, normalize='true', png_path=None, show=False):\n",
    "    cm = confusion_matrix(y_true, y_pred, labels=labels, normalize=normalize)\n",
    "    fig, ax = plt.subplots(figsize=(6, 5))\n",
    "    sns.heatmap(cm, annot=True, fmt=\".2f\", cmap=\"Blues\",\n",
    "                xticklabels=class_names if class_names else labels,\n",
    "                yticklabels=class_names if class_names else labels)\n",
    "    ax.set_xlabel(\"Predicted Label\")\n",
    "    ax.set_ylabel(\"True Label\")\n",
    "    if png_path:\n",
    "        plt.savefig(png_path, bbox_inches='tight')\n",
    "    if show:\n",
    "        plt.show()\n",
    "    plt.close(fig)\n",
    "    return cm"
   ]
  },
  {
   "cell_type": "code",
   "execution_count": null,
   "id": "bdaf18e1-fd86-4ca3-8338-ba9c7ae260cc",
   "metadata": {},
   "outputs": [],
   "source": [
    "def load_data(file_path):\n",
    "    data = pd.read_csv(file_path)\n",
    "    return data"
   ]
  },
  {
   "cell_type": "code",
   "execution_count": null,
   "id": "80d881f1-74ba-45f6-9c7a-c3c0d686d162",
   "metadata": {},
   "outputs": [],
   "source": [
    "def preprocess_data(data):\n",
    "\n",
    "    #X = data.drop(columns=[\"Cognitive_Load_Label\"])\n",
    "    X = data.drop(columns=[\"label\"])\n",
    "    y = data[\"label\"]\n",
    "    #y = data[\"Cognitive_Load_Label\"]\n",
    "    \n",
    "    \n",
    "    label_encoder = LabelEncoder()\n",
    "    y = label_encoder.fit_transform(y)\n",
    "    \n",
    "    scaler = StandardScaler()\n",
    "    X = scaler.fit_transform(X)\n",
    "    \n",
    "    return X, y, label_encoder"
   ]
  },
  {
   "cell_type": "code",
   "execution_count": null,
   "id": "38dbd48d-7ed2-4240-b1a9-94d7ee1876a4",
   "metadata": {},
   "outputs": [],
   "source": [
    "def split_data(X, y, test_size=0.20, random_state=42):\n",
    "\n",
    "    X_train, X_test, y_train, y_test = train_test_split(X, y, test_size=test_size, random_state=random_state)\n",
    "    return X_train, X_test, y_train, y_test"
   ]
  },
  {
   "cell_type": "code",
   "execution_count": null,
   "id": "9b0c57df-f413-4733-88a9-7f16052ef0ee",
   "metadata": {},
   "outputs": [],
   "source": [
    "def analyze_labels(data, label_column):\n",
    "    unique_classes = data[label_column].unique()  # Find unique classes\n",
    "    class_counts = data[label_column].value_counts()  # Count samples per class\n",
    "    \n",
    "    print(f\"Number of unique classes: {len(unique_classes)}\")\n",
    "    print(\"\\nClasses and their sample counts:\")\n",
    "    print(class_counts)"
   ]
  },
  {
   "cell_type": "code",
   "execution_count": null,
   "id": "97c4ca6c-e077-415a-b818-cabf3986114e",
   "metadata": {},
   "outputs": [],
   "source": [
    "data = load_data(\"EEGfeatures_with_labels.csv\")\n",
    "print(\"Data loaded successfully.\")"
   ]
  },
  {
   "cell_type": "code",
   "execution_count": null,
   "id": "407aa9c5-dffc-4686-a31f-6cd212948b01",
   "metadata": {},
   "outputs": [],
   "source": [
    "#data = load_data(\"PPGfeatures_with_labels.csv\")\n",
    "#print(\"Data loaded successfully.\")"
   ]
  },
  {
   "cell_type": "code",
   "execution_count": null,
   "id": "3882c96d-4ac9-48ff-98d7-7c876ca1e20d",
   "metadata": {},
   "outputs": [],
   "source": [
    "data.head(5)"
   ]
  },
  {
   "cell_type": "code",
   "execution_count": null,
   "id": "fa517faf-5e14-40bc-bc24-a1d2309b7a71",
   "metadata": {},
   "outputs": [],
   "source": [
    "print(data.columns)"
   ]
  },
  {
   "cell_type": "code",
   "execution_count": null,
   "id": "99ad35b9-270c-4fcf-a280-fb15df102f2e",
   "metadata": {},
   "outputs": [],
   "source": [
    "X, y, label_encoder = preprocess_data(data)\n",
    "print(\"Data preprocessed successfully.\")"
   ]
  },
  {
   "cell_type": "code",
   "execution_count": null,
   "id": "f9d47b2b-3628-435a-8bc6-5889e1907e2b",
   "metadata": {},
   "outputs": [],
   "source": [
    "y"
   ]
  },
  {
   "cell_type": "code",
   "execution_count": null,
   "id": "24d94213-4b01-4439-8900-1fa885415543",
   "metadata": {},
   "outputs": [],
   "source": [
    "X.shape"
   ]
  },
  {
   "cell_type": "code",
   "execution_count": null,
   "id": "93f76b7b-3efc-4836-8bc5-37758098d018",
   "metadata": {},
   "outputs": [],
   "source": [
    "y.shape"
   ]
  },
  {
   "cell_type": "code",
   "execution_count": null,
   "id": "3645f04b-29c8-48c9-9b27-c840fd64c404",
   "metadata": {},
   "outputs": [],
   "source": [
    "#analyze_labels(data, 'Cognitive_Load_Label') \n",
    "analyze_labels(data, 'label') "
   ]
  },
  {
   "cell_type": "code",
   "execution_count": null,
   "id": "4a3cd249-63cd-4f33-a8b9-ca83746adb6f",
   "metadata": {},
   "outputs": [],
   "source": [
    "X.shape"
   ]
  },
  {
   "cell_type": "code",
   "execution_count": null,
   "id": "3b44e8f7-9f5e-4d6c-b433-08e9b907b88d",
   "metadata": {},
   "outputs": [],
   "source": [
    "X_train, X_test, y_train, y_test = split_data(X, y)\n",
    "print(\"Data split successfully.\")"
   ]
  },
  {
   "cell_type": "code",
   "execution_count": null,
   "id": "4fdc3e69-19a5-4ca5-8c75-c86450813ddb",
   "metadata": {},
   "outputs": [],
   "source": [
    "print(X_train.shape, X_test.shape)"
   ]
  },
  {
   "cell_type": "code",
   "execution_count": null,
   "id": "15dc5089-cdb1-4d32-aaa0-a33472c4c31b",
   "metadata": {},
   "outputs": [],
   "source": [
    "print(y_train.shape, y_test.shape)"
   ]
  },
  {
   "cell_type": "code",
   "execution_count": null,
   "id": "152eca50-9e4b-40ef-8cc1-306a8b19cf9f",
   "metadata": {},
   "outputs": [],
   "source": [
    "print(type(X_train), type(y_train), type(X_test), type(y_test))"
   ]
  },
  {
   "cell_type": "code",
   "execution_count": null,
   "id": "83e03ff0-b8d5-47a0-af96-e6e495dc18ea",
   "metadata": {},
   "outputs": [],
   "source": [
    "def train_models(X_train, X_test, y_train, y_test, class_map, save_dir=\"cm_outputs\"):\n",
    "    os.makedirs(save_dir, exist_ok=True)\n",
    "    random_state = 0\n",
    "\n",
    "    models = {\n",
    "        \"NB\": GaussianNB(),\n",
    "        \"RF\": RandomForestClassifier(n_estimators=400, n_jobs=-1, random_state=random_state),\n",
    "        \"MLP\": Pipeline([\n",
    "            (\"scaler\", StandardScaler()),\n",
    "            (\"clf\", MLPClassifier(hidden_layer_sizes=(128, 64), activation=\"relu\", max_iter=400, random_state=random_state))\n",
    "        ]),\n",
    "        \"DT\": DecisionTreeClassifier(random_state=random_state),\n",
    "        \"SVM\": Pipeline([\n",
    "            (\"scaler\", StandardScaler()),\n",
    "            (\"clf\", SVC(kernel=\"linear\", probability=True, random_state=random_state))\n",
    "        ])\n",
    "    }\n",
    "\n",
    "    results = {}\n",
    "    for name, model in models.items():\n",
    "        model.fit(X_train, y_train)\n",
    "        y_pred = model.predict(X_test)\n",
    "\n",
    "        print(f\"\\n=== {name} ===\")\n",
    "        print(classification_report(y_test, y_pred, target_names=[class_map[i] for i in sorted(class_map)]))\n",
    "\n",
    "        labels = sorted(class_map)\n",
    "        class_names = [class_map[i] for i in labels]\n",
    "\n",
    "        cm_path = os.path.join(save_dir, f\"{name.lower()}_cm_norm.png\")\n",
    "        cm = plot_cm(y_test, y_pred, labels=labels, class_names=class_names, normalize='true', png_path=cm_path)\n",
    "\n",
    "        results[name] = {\n",
    "            \"report\": classification_report(y_test, y_pred, target_names=class_names, output_dict=True),\n",
    "            \"cm\": cm,\n",
    "            \"cm_path\": cm_path\n",
    "        }\n",
    "\n",
    "    return results"
   ]
  },
  {
   "cell_type": "code",
   "execution_count": null,
   "id": "acc88cac-46c8-4c4c-a5f9-ac2065883781",
   "metadata": {},
   "outputs": [],
   "source": [
    "class_map = {0: \"Low\", 1: \"Medium\", 2: \"High\"}\n",
    "results = train_models(X_train, X_test, y_train, y_test, class_map)\n",
    "\n",
    "# Optional: extract and display F1 scores\n",
    "f1_scores = {\n",
    "    model: {\n",
    "        str(k): v[\"f1-score\"] for k, v in result[\"report\"].items() if isinstance(v, dict)\n",
    "    }\n",
    "    for model, result in results.items()\n",
    "}\n",
    "f1_df = pd.DataFrame(f1_scores).T\n",
    "print(\"\\nMacro F1 Scores:\")\n",
    "print(f1_df)"
   ]
  }
 ],
 "metadata": {
  "kernelspec": {
   "display_name": "Python 3",
   "language": "python",
   "name": "python3"
  },
  "language_info": {
   "codemirror_mode": {
    "name": "ipython",
    "version": 3
   },
   "file_extension": ".py",
   "mimetype": "text/x-python",
   "name": "python",
   "nbconvert_exporter": "python",
   "pygments_lexer": "ipython3",
   "version": "3.6.9"
  }
 },
 "nbformat": 4,
 "nbformat_minor": 5
}
