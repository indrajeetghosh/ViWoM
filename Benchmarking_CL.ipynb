{
 "cells": [
  {
   "cell_type": "code",
   "execution_count": 84,
   "id": "a8ce930f-0571-4e34-be23-7d0da29d028e",
   "metadata": {},
   "outputs": [],
   "source": [
    "from sklearn.ensemble import RandomForestClassifier\n",
    "from sklearn.neural_network import MLPClassifier\n",
    "from sklearn.naive_bayes import GaussianNB\n",
    "from sklearn.tree import DecisionTreeClassifier\n",
    "from sklearn.svm import SVC\n",
    "from sklearn.pipeline import Pipeline\n",
    "from sklearn.model_selection import train_test_split\n",
    "from sklearn.preprocessing import StandardScaler\n",
    "from sklearn.metrics import classification_report\n",
    "from sklearn.metrics import classification_report, confusion_matrix\n",
    "import os\n",
    "import numpy as np\n",
    "import pandas as pd\n",
    "import matplotlib.pyplot as plt\n",
    "from sklearn.preprocessing import LabelEncoder, StandardScaler\n",
    "import seaborn as sns"
   ]
  },
  {
   "cell_type": "code",
   "execution_count": 24,
   "id": "7aba1c61-b022-4726-9706-09a8d66b9e71",
   "metadata": {},
   "outputs": [],
   "source": [
    "import matplotlib as mpl\n",
    "import pylab\n",
    "mpl.rcParams['lines.linewidth'] = 2\n",
    "mpl.rcParams['lines.color'] = 'r'\n",
    "mpl.rcParams['font.weight'] = 200\n",
    "plt.style.use('seaborn-whitegrid')\n",
    "plt.rc('figure',figsize=(8,8))\n",
    "mpl.axes.Axes.annotate\n",
    "mpl.rcParams['font.family'] = \"serif\"\n",
    "pylab.rcParams['ytick.major.pad']='15'\n",
    "pylab.rcParams['xtick.major.pad']='15'\n",
    "mpl.rcParams['font.weight'] = \"semibold\"\n",
    "mpl.rcParams['axes.labelsize'] = 20\n",
    "mpl.rcParams['axes.linewidth'] = 4\n",
    "mpl.rcParams['xtick.labelsize'] = 20\n",
    "mpl.rcParams['ytick.labelsize'] = 20\n",
    "mpl.rcParams['axes.edgecolor'] = 'black'\n",
    "mpl.rcParams['axes.titlesize'] = 20\n",
    "mpl.rcParams['legend.fontsize'] = 15"
   ]
  },
  {
   "cell_type": "code",
   "execution_count": 58,
   "id": "8e8c78d4-a812-4f91-9bb9-174c179ded7f",
   "metadata": {},
   "outputs": [],
   "source": [
    "def plot_cm(y_true, y_pred, labels, class_names=None, normalize='true', png_path=None, show=False):\n",
    "    cm = confusion_matrix(y_true, y_pred, labels=labels, normalize=normalize)\n",
    "    fig, ax = plt.subplots(figsize=(6, 5))\n",
    "    sns.heatmap(cm, annot=True, fmt=\".2f\", cmap=\"Blues\",\n",
    "                xticklabels=class_names if class_names else labels,\n",
    "                yticklabels=class_names if class_names else labels)\n",
    "    ax.set_xlabel(\"Predicted Label\")\n",
    "    ax.set_ylabel(\"True Label\")\n",
    "    if png_path:\n",
    "        plt.savefig(png_path, bbox_inches='tight')\n",
    "    if show:\n",
    "        plt.show()\n",
    "    plt.close(fig)\n",
    "    return cm"
   ]
  },
  {
   "cell_type": "code",
   "execution_count": 59,
   "id": "bdaf18e1-fd86-4ca3-8338-ba9c7ae260cc",
   "metadata": {},
   "outputs": [],
   "source": [
    "def load_data(file_path):\n",
    "    data = pd.read_csv(file_path)\n",
    "    return data"
   ]
  },
  {
   "cell_type": "code",
   "execution_count": 60,
   "id": "80d881f1-74ba-45f6-9c7a-c3c0d686d162",
   "metadata": {},
   "outputs": [],
   "source": [
    "def preprocess_data(data):\n",
    "\n",
    "    #X = data.drop(columns=[\"Cognitive_Load_Label\"])\n",
    "    X = data.drop(columns=[\"label\"])\n",
    "    y = data[\"label\"]\n",
    "    #y = data[\"Cognitive_Load_Label\"]\n",
    "    \n",
    "    \n",
    "    label_encoder = LabelEncoder()\n",
    "    y = label_encoder.fit_transform(y)\n",
    "    \n",
    "    scaler = StandardScaler()\n",
    "    X = scaler.fit_transform(X)\n",
    "    \n",
    "    return X, y, label_encoder"
   ]
  },
  {
   "cell_type": "code",
   "execution_count": 61,
   "id": "38dbd48d-7ed2-4240-b1a9-94d7ee1876a4",
   "metadata": {},
   "outputs": [],
   "source": [
    "def split_data(X, y, test_size=0.20, random_state=42):\n",
    "\n",
    "    X_train, X_test, y_train, y_test = train_test_split(X, y, test_size=test_size, random_state=random_state)\n",
    "    return X_train, X_test, y_train, y_test"
   ]
  },
  {
   "cell_type": "code",
   "execution_count": 62,
   "id": "9b0c57df-f413-4733-88a9-7f16052ef0ee",
   "metadata": {},
   "outputs": [],
   "source": [
    "def analyze_labels(data, label_column):\n",
    "    unique_classes = data[label_column].unique()  # Find unique classes\n",
    "    class_counts = data[label_column].value_counts()  # Count samples per class\n",
    "    \n",
    "    print(f\"Number of unique classes: {len(unique_classes)}\")\n",
    "    print(\"\\nClasses and their sample counts:\")\n",
    "    print(class_counts)"
   ]
  },
  {
   "cell_type": "code",
   "execution_count": 63,
   "id": "97c4ca6c-e077-415a-b818-cabf3986114e",
   "metadata": {},
   "outputs": [
    {
     "name": "stdout",
     "output_type": "stream",
     "text": [
      "Data loaded successfully.\n"
     ]
    }
   ],
   "source": [
    "data = load_data(\"EEGfeatures_with_labels.csv\")\n",
    "print(\"Data loaded successfully.\")"
   ]
  },
  {
   "cell_type": "code",
   "execution_count": 65,
   "id": "407aa9c5-dffc-4686-a31f-6cd212948b01",
   "metadata": {},
   "outputs": [],
   "source": [
    "#data = load_data(\"PPGfeatures_with_labels.csv\")\n",
    "#print(\"Data loaded successfully.\")"
   ]
  },
  {
   "cell_type": "code",
   "execution_count": 66,
   "id": "3882c96d-4ac9-48ff-98d7-7c876ca1e20d",
   "metadata": {},
   "outputs": [
    {
     "data": {
      "text/html": [
       "<div>\n",
       "<style scoped>\n",
       "    .dataframe tbody tr th:only-of-type {\n",
       "        vertical-align: middle;\n",
       "    }\n",
       "\n",
       "    .dataframe tbody tr th {\n",
       "        vertical-align: top;\n",
       "    }\n",
       "\n",
       "    .dataframe thead th {\n",
       "        text-align: right;\n",
       "    }\n",
       "</style>\n",
       "<table border=\"1\" class=\"dataframe\">\n",
       "  <thead>\n",
       "    <tr style=\"text-align: right;\">\n",
       "      <th></th>\n",
       "      <th>ShannonEntropy_0</th>\n",
       "      <th>ShannonEntropy_1</th>\n",
       "      <th>ShannonEntropy_2</th>\n",
       "      <th>ShannonEntropy_3</th>\n",
       "      <th>MedianFreq_0</th>\n",
       "      <th>MedianFreq_1</th>\n",
       "      <th>MedianFreq_2</th>\n",
       "      <th>MedianFreq_3</th>\n",
       "      <th>Std_0</th>\n",
       "      <th>Std_1</th>\n",
       "      <th>...</th>\n",
       "      <th>BandPower_beta_1</th>\n",
       "      <th>BandPower_beta_2</th>\n",
       "      <th>BandPower_beta_3</th>\n",
       "      <th>BandPower_gamma_0</th>\n",
       "      <th>BandPower_gamma_1</th>\n",
       "      <th>BandPower_gamma_2</th>\n",
       "      <th>BandPower_gamma_3</th>\n",
       "      <th>MI_0</th>\n",
       "      <th>PLI_0</th>\n",
       "      <th>label</th>\n",
       "    </tr>\n",
       "  </thead>\n",
       "  <tbody>\n",
       "    <tr>\n",
       "      <th>0</th>\n",
       "      <td>6.360649</td>\n",
       "      <td>6.306755</td>\n",
       "      <td>10.002474</td>\n",
       "      <td>7.191911</td>\n",
       "      <td>85.8</td>\n",
       "      <td>114.6</td>\n",
       "      <td>56.6</td>\n",
       "      <td>84.4</td>\n",
       "      <td>32.061341</td>\n",
       "      <td>27.603852</td>\n",
       "      <td>...</td>\n",
       "      <td>1.444642</td>\n",
       "      <td>120.873901</td>\n",
       "      <td>0.503801</td>\n",
       "      <td>0.625572</td>\n",
       "      <td>3.308251</td>\n",
       "      <td>938.983370</td>\n",
       "      <td>0.957668</td>\n",
       "      <td>0.838047</td>\n",
       "      <td>0.117057</td>\n",
       "      <td>1</td>\n",
       "    </tr>\n",
       "    <tr>\n",
       "      <th>1</th>\n",
       "      <td>6.718830</td>\n",
       "      <td>5.959228</td>\n",
       "      <td>9.984402</td>\n",
       "      <td>7.338912</td>\n",
       "      <td>83.0</td>\n",
       "      <td>31.1</td>\n",
       "      <td>76.1</td>\n",
       "      <td>38.9</td>\n",
       "      <td>32.026274</td>\n",
       "      <td>23.010700</td>\n",
       "      <td>...</td>\n",
       "      <td>1.063105</td>\n",
       "      <td>126.451029</td>\n",
       "      <td>0.416003</td>\n",
       "      <td>0.650411</td>\n",
       "      <td>2.372382</td>\n",
       "      <td>943.085065</td>\n",
       "      <td>0.943409</td>\n",
       "      <td>3.412117</td>\n",
       "      <td>0.027865</td>\n",
       "      <td>1</td>\n",
       "    </tr>\n",
       "    <tr>\n",
       "      <th>2</th>\n",
       "      <td>6.614333</td>\n",
       "      <td>5.946551</td>\n",
       "      <td>9.995242</td>\n",
       "      <td>7.332993</td>\n",
       "      <td>90.6</td>\n",
       "      <td>95.3</td>\n",
       "      <td>100.4</td>\n",
       "      <td>54.3</td>\n",
       "      <td>30.748537</td>\n",
       "      <td>22.257319</td>\n",
       "      <td>...</td>\n",
       "      <td>0.937130</td>\n",
       "      <td>108.797352</td>\n",
       "      <td>0.566946</td>\n",
       "      <td>0.683323</td>\n",
       "      <td>2.175736</td>\n",
       "      <td>954.340933</td>\n",
       "      <td>1.002169</td>\n",
       "      <td>1.640939</td>\n",
       "      <td>0.027344</td>\n",
       "      <td>1</td>\n",
       "    </tr>\n",
       "    <tr>\n",
       "      <th>3</th>\n",
       "      <td>6.181034</td>\n",
       "      <td>5.897674</td>\n",
       "      <td>10.036926</td>\n",
       "      <td>7.025405</td>\n",
       "      <td>82.4</td>\n",
       "      <td>51.2</td>\n",
       "      <td>20.4</td>\n",
       "      <td>58.9</td>\n",
       "      <td>24.771528</td>\n",
       "      <td>24.504576</td>\n",
       "      <td>...</td>\n",
       "      <td>1.245104</td>\n",
       "      <td>135.301583</td>\n",
       "      <td>0.321927</td>\n",
       "      <td>0.458879</td>\n",
       "      <td>3.001322</td>\n",
       "      <td>948.288957</td>\n",
       "      <td>0.813986</td>\n",
       "      <td>2.610624</td>\n",
       "      <td>0.126172</td>\n",
       "      <td>1</td>\n",
       "    </tr>\n",
       "    <tr>\n",
       "      <th>4</th>\n",
       "      <td>6.651620</td>\n",
       "      <td>6.004883</td>\n",
       "      <td>10.006555</td>\n",
       "      <td>7.496894</td>\n",
       "      <td>101.0</td>\n",
       "      <td>84.4</td>\n",
       "      <td>27.5</td>\n",
       "      <td>18.3</td>\n",
       "      <td>32.954740</td>\n",
       "      <td>23.439127</td>\n",
       "      <td>...</td>\n",
       "      <td>1.182783</td>\n",
       "      <td>115.742823</td>\n",
       "      <td>0.548304</td>\n",
       "      <td>0.625329</td>\n",
       "      <td>2.436957</td>\n",
       "      <td>961.504731</td>\n",
       "      <td>1.194271</td>\n",
       "      <td>1.051656</td>\n",
       "      <td>0.120182</td>\n",
       "      <td>1</td>\n",
       "    </tr>\n",
       "  </tbody>\n",
       "</table>\n",
       "<p>5 rows × 55 columns</p>\n",
       "</div>"
      ],
      "text/plain": [
       "   ShannonEntropy_0  ShannonEntropy_1  ShannonEntropy_2  ShannonEntropy_3  \\\n",
       "0          6.360649          6.306755         10.002474          7.191911   \n",
       "1          6.718830          5.959228          9.984402          7.338912   \n",
       "2          6.614333          5.946551          9.995242          7.332993   \n",
       "3          6.181034          5.897674         10.036926          7.025405   \n",
       "4          6.651620          6.004883         10.006555          7.496894   \n",
       "\n",
       "   MedianFreq_0  MedianFreq_1  MedianFreq_2  MedianFreq_3      Std_0  \\\n",
       "0          85.8         114.6          56.6          84.4  32.061341   \n",
       "1          83.0          31.1          76.1          38.9  32.026274   \n",
       "2          90.6          95.3         100.4          54.3  30.748537   \n",
       "3          82.4          51.2          20.4          58.9  24.771528   \n",
       "4         101.0          84.4          27.5          18.3  32.954740   \n",
       "\n",
       "       Std_1  ...  BandPower_beta_1  BandPower_beta_2  BandPower_beta_3  \\\n",
       "0  27.603852  ...          1.444642        120.873901          0.503801   \n",
       "1  23.010700  ...          1.063105        126.451029          0.416003   \n",
       "2  22.257319  ...          0.937130        108.797352          0.566946   \n",
       "3  24.504576  ...          1.245104        135.301583          0.321927   \n",
       "4  23.439127  ...          1.182783        115.742823          0.548304   \n",
       "\n",
       "   BandPower_gamma_0  BandPower_gamma_1  BandPower_gamma_2  BandPower_gamma_3  \\\n",
       "0           0.625572           3.308251         938.983370           0.957668   \n",
       "1           0.650411           2.372382         943.085065           0.943409   \n",
       "2           0.683323           2.175736         954.340933           1.002169   \n",
       "3           0.458879           3.001322         948.288957           0.813986   \n",
       "4           0.625329           2.436957         961.504731           1.194271   \n",
       "\n",
       "       MI_0     PLI_0  label  \n",
       "0  0.838047  0.117057      1  \n",
       "1  3.412117  0.027865      1  \n",
       "2  1.640939  0.027344      1  \n",
       "3  2.610624  0.126172      1  \n",
       "4  1.051656  0.120182      1  \n",
       "\n",
       "[5 rows x 55 columns]"
      ]
     },
     "execution_count": 66,
     "metadata": {},
     "output_type": "execute_result"
    }
   ],
   "source": [
    "data.head(5)"
   ]
  },
  {
   "cell_type": "code",
   "execution_count": 67,
   "id": "fa517faf-5e14-40bc-bc24-a1d2309b7a71",
   "metadata": {},
   "outputs": [
    {
     "name": "stdout",
     "output_type": "stream",
     "text": [
      "Index(['ShannonEntropy_0', 'ShannonEntropy_1', 'ShannonEntropy_2',\n",
      "       'ShannonEntropy_3', 'MedianFreq_0', 'MedianFreq_1', 'MedianFreq_2',\n",
      "       'MedianFreq_3', 'Std_0', 'Std_1', 'Std_2', 'Std_3',\n",
      "       'ShannonEntropy_delta_0', 'ShannonEntropy_delta_1',\n",
      "       'ShannonEntropy_delta_2', 'ShannonEntropy_delta_3',\n",
      "       'ShannonEntropy_theta_0', 'ShannonEntropy_theta_1',\n",
      "       'ShannonEntropy_theta_2', 'ShannonEntropy_theta_3',\n",
      "       'ShannonEntropy_alpha_0', 'ShannonEntropy_alpha_1',\n",
      "       'ShannonEntropy_alpha_2', 'ShannonEntropy_alpha_3',\n",
      "       'ShannonEntropy_beta_0', 'ShannonEntropy_beta_1',\n",
      "       'ShannonEntropy_beta_2', 'ShannonEntropy_beta_3',\n",
      "       'ShannonEntropy_gamma_0', 'ShannonEntropy_gamma_1',\n",
      "       'ShannonEntropy_gamma_2', 'ShannonEntropy_gamma_3', 'HjorthMob_0',\n",
      "       'HjorthMob_1', 'HjorthMob_2', 'HjorthMob_3', 'HjorthComp_0',\n",
      "       'HjorthComp_1', 'HjorthComp_2', 'HjorthComp_3', 'BandPower_alpha_0',\n",
      "       'BandPower_alpha_1', 'BandPower_alpha_2', 'BandPower_alpha_3',\n",
      "       'BandPower_beta_0', 'BandPower_beta_1', 'BandPower_beta_2',\n",
      "       'BandPower_beta_3', 'BandPower_gamma_0', 'BandPower_gamma_1',\n",
      "       'BandPower_gamma_2', 'BandPower_gamma_3', 'MI_0', 'PLI_0', 'label'],\n",
      "      dtype='object')\n"
     ]
    }
   ],
   "source": [
    "print(data.columns)"
   ]
  },
  {
   "cell_type": "code",
   "execution_count": 68,
   "id": "99ad35b9-270c-4fcf-a280-fb15df102f2e",
   "metadata": {},
   "outputs": [
    {
     "name": "stdout",
     "output_type": "stream",
     "text": [
      "Data preprocessed successfully.\n"
     ]
    }
   ],
   "source": [
    "X, y, label_encoder = preprocess_data(data)\n",
    "print(\"Data preprocessed successfully.\")"
   ]
  },
  {
   "cell_type": "code",
   "execution_count": 69,
   "id": "f9d47b2b-3628-435a-8bc6-5889e1907e2b",
   "metadata": {},
   "outputs": [
    {
     "data": {
      "text/plain": [
       "array([1, 1, 1, ..., 1, 1, 1])"
      ]
     },
     "execution_count": 69,
     "metadata": {},
     "output_type": "execute_result"
    }
   ],
   "source": [
    "y"
   ]
  },
  {
   "cell_type": "code",
   "execution_count": 70,
   "id": "24d94213-4b01-4439-8900-1fa885415543",
   "metadata": {},
   "outputs": [
    {
     "data": {
      "text/plain": [
       "(2520, 54)"
      ]
     },
     "execution_count": 70,
     "metadata": {},
     "output_type": "execute_result"
    }
   ],
   "source": [
    "X.shape"
   ]
  },
  {
   "cell_type": "code",
   "execution_count": 71,
   "id": "93f76b7b-3efc-4836-8bc5-37758098d018",
   "metadata": {},
   "outputs": [
    {
     "data": {
      "text/plain": [
       "(2520,)"
      ]
     },
     "execution_count": 71,
     "metadata": {},
     "output_type": "execute_result"
    }
   ],
   "source": [
    "y.shape"
   ]
  },
  {
   "cell_type": "code",
   "execution_count": 72,
   "id": "3645f04b-29c8-48c9-9b27-c840fd64c404",
   "metadata": {},
   "outputs": [
    {
     "name": "stdout",
     "output_type": "stream",
     "text": [
      "Number of unique classes: 3\n",
      "\n",
      "Classes and their sample counts:\n",
      "1    1317\n",
      "0     728\n",
      "2     475\n",
      "Name: label, dtype: int64\n"
     ]
    }
   ],
   "source": [
    "#analyze_labels(data, 'Cognitive_Load_Label') \n",
    "analyze_labels(data, 'label') "
   ]
  },
  {
   "cell_type": "code",
   "execution_count": 73,
   "id": "4a3cd249-63cd-4f33-a8b9-ca83746adb6f",
   "metadata": {},
   "outputs": [
    {
     "data": {
      "text/plain": [
       "(2520, 54)"
      ]
     },
     "execution_count": 73,
     "metadata": {},
     "output_type": "execute_result"
    }
   ],
   "source": [
    "X.shape"
   ]
  },
  {
   "cell_type": "code",
   "execution_count": 74,
   "id": "3b44e8f7-9f5e-4d6c-b433-08e9b907b88d",
   "metadata": {},
   "outputs": [
    {
     "name": "stdout",
     "output_type": "stream",
     "text": [
      "Data split successfully.\n"
     ]
    }
   ],
   "source": [
    "X_train, X_test, y_train, y_test = split_data(X, y)\n",
    "print(\"Data split successfully.\")"
   ]
  },
  {
   "cell_type": "code",
   "execution_count": 75,
   "id": "4fdc3e69-19a5-4ca5-8c75-c86450813ddb",
   "metadata": {},
   "outputs": [
    {
     "name": "stdout",
     "output_type": "stream",
     "text": [
      "(2016, 54) (504, 54)\n"
     ]
    }
   ],
   "source": [
    "print(X_train.shape, X_test.shape)"
   ]
  },
  {
   "cell_type": "code",
   "execution_count": 76,
   "id": "15dc5089-cdb1-4d32-aaa0-a33472c4c31b",
   "metadata": {},
   "outputs": [
    {
     "name": "stdout",
     "output_type": "stream",
     "text": [
      "(2016,) (504,)\n"
     ]
    }
   ],
   "source": [
    "print(y_train.shape, y_test.shape)"
   ]
  },
  {
   "cell_type": "code",
   "execution_count": 77,
   "id": "152eca50-9e4b-40ef-8cc1-306a8b19cf9f",
   "metadata": {},
   "outputs": [
    {
     "name": "stdout",
     "output_type": "stream",
     "text": [
      "<class 'numpy.ndarray'> <class 'numpy.ndarray'> <class 'numpy.ndarray'> <class 'numpy.ndarray'>\n"
     ]
    }
   ],
   "source": [
    "print(type(X_train), type(y_train), type(X_test), type(y_test))"
   ]
  },
  {
   "cell_type": "code",
   "execution_count": 80,
   "id": "83e03ff0-b8d5-47a0-af96-e6e495dc18ea",
   "metadata": {},
   "outputs": [],
   "source": [
    "def train_models(X_train, X_test, y_train, y_test, class_map, save_dir=\"cm_outputs\"):\n",
    "    os.makedirs(save_dir, exist_ok=True)\n",
    "    random_state = 0\n",
    "\n",
    "    models = {\n",
    "        \"NB\": GaussianNB(),\n",
    "        \"RF\": RandomForestClassifier(n_estimators=400, n_jobs=-1, random_state=random_state),\n",
    "        \"MLP\": Pipeline([\n",
    "            (\"scaler\", StandardScaler()),\n",
    "            (\"clf\", MLPClassifier(hidden_layer_sizes=(128, 64), activation=\"relu\", max_iter=400, random_state=random_state))\n",
    "        ]),\n",
    "        \"DT\": DecisionTreeClassifier(random_state=random_state),\n",
    "        \"SVM\": Pipeline([\n",
    "            (\"scaler\", StandardScaler()),\n",
    "            (\"clf\", SVC(kernel=\"linear\", probability=True, random_state=random_state))\n",
    "        ])\n",
    "    }\n",
    "\n",
    "    results = {}\n",
    "    for name, model in models.items():\n",
    "        model.fit(X_train, y_train)\n",
    "        y_pred = model.predict(X_test)\n",
    "\n",
    "        print(f\"\\n=== {name} ===\")\n",
    "        print(classification_report(y_test, y_pred, target_names=[class_map[i] for i in sorted(class_map)]))\n",
    "\n",
    "        labels = sorted(class_map)\n",
    "        class_names = [class_map[i] for i in labels]\n",
    "\n",
    "        cm_path = os.path.join(save_dir, f\"{name.lower()}_cm_norm.png\")\n",
    "        cm = plot_cm(y_test, y_pred, labels=labels, class_names=class_names, normalize='true', png_path=cm_path)\n",
    "\n",
    "        results[name] = {\n",
    "            \"report\": classification_report(y_test, y_pred, target_names=class_names, output_dict=True),\n",
    "            \"cm\": cm,\n",
    "            \"cm_path\": cm_path\n",
    "        }\n",
    "\n",
    "    return results"
   ]
  },
  {
   "cell_type": "code",
   "execution_count": null,
   "id": "acc88cac-46c8-4c4c-a5f9-ac2065883781",
   "metadata": {},
   "outputs": [
    {
     "name": "stdout",
     "output_type": "stream",
     "text": [
      "\n",
      "=== NB ===\n",
      "              precision    recall  f1-score   support\n",
      "\n",
      "         Low       0.40      0.78      0.53       152\n",
      "      Medium       0.68      0.41      0.51       254\n",
      "        High       0.54      0.29      0.37        98\n",
      "\n",
      "    accuracy                           0.50       504\n",
      "   macro avg       0.54      0.49      0.47       504\n",
      "weighted avg       0.57      0.50      0.49       504\n",
      "\n",
      "\n",
      "=== RF ===\n",
      "              precision    recall  f1-score   support\n",
      "\n",
      "         Low       0.87      0.64      0.73       152\n",
      "      Medium       0.70      0.92      0.79       254\n",
      "        High       0.85      0.51      0.64        98\n",
      "\n",
      "    accuracy                           0.75       504\n",
      "   macro avg       0.80      0.69      0.72       504\n",
      "weighted avg       0.78      0.75      0.75       504\n",
      "\n"
     ]
    }
   ],
   "source": [
    "class_map = {0: \"Low\", 1: \"Medium\", 2: \"High\"}\n",
    "results = train_models(X_train, X_test, y_train, y_test, class_map)\n",
    "\n",
    "# Optional: extract and display F1 scores\n",
    "f1_scores = {\n",
    "    model: {\n",
    "        str(k): v[\"f1-score\"] for k, v in result[\"report\"].items() if isinstance(v, dict)\n",
    "    }\n",
    "    for model, result in results.items()\n",
    "}\n",
    "f1_df = pd.DataFrame(f1_scores).T\n",
    "print(\"\\nMacro F1 Scores:\")\n",
    "print(f1_df)"
   ]
  }
 ],
 "metadata": {
  "kernelspec": {
   "display_name": "Python 3",
   "language": "python",
   "name": "python3"
  },
  "language_info": {
   "codemirror_mode": {
    "name": "ipython",
    "version": 3
   },
   "file_extension": ".py",
   "mimetype": "text/x-python",
   "name": "python",
   "nbconvert_exporter": "python",
   "pygments_lexer": "ipython3",
   "version": "3.6.9"
  }
 },
 "nbformat": 4,
 "nbformat_minor": 5
}
